{
 "cells": [
  {
   "cell_type": "code",
   "execution_count": 3,
   "id": "d26ea86c",
   "metadata": {},
   "outputs": [],
   "source": [
    "#import packages\n",
    "import pandas as pd\n",
    "import os\n",
    "\n",
    "#import csv file\n",
    "electiondata = pd.read_csv(\"election_data.csv\") "
   ]
  },
  {
   "cell_type": "code",
   "execution_count": 34,
   "id": "e21f2289",
   "metadata": {},
   "outputs": [
    {
     "name": "stdout",
     "output_type": "stream",
     "text": [
      "3\n"
     ]
    }
   ],
   "source": [
    "#execute calculations\n",
    "\n",
    "electionresults = electiondata.groupby(\"Candidate\").agg(Votes = ('Ballot ID','count'))\n",
    "totalvotes = len(electiondata)\n",
    "#calculate candidate polling results by percent\n",
    "results = round(electionresults/totalvotes * 100)\n",
    "resultscount = len(electionresults)\n",
    "#electionresults['Percent']\n",
    "#declare winner\n",
    "winner = electionresults[electionresults['Votes'] == electionresults['Votes'].max()]"
   ]
  },
  {
   "cell_type": "code",
   "execution_count": 30,
   "id": "ed57c03d",
   "metadata": {},
   "outputs": [],
   "source": [
    "#Given the Format\n",
    "\n",
    "#Election Results\n",
    "#-------------------------\n",
    "#Total Votes: 369711\n",
    "#-------------------------\n",
    "#Charles Casper Stockham: 23.049% (85213)\n",
    "#Diana DeGette: 73.812% (272892)\n",
    "#Raymon Anthony Doane: 3.139% (11606)\n",
    "#-------------------------\n",
    "#Winner: Diana DeGette\n",
    "#-------------------------"
   ]
  },
  {
   "cell_type": "code",
   "execution_count": 33,
   "id": "be4d10e7",
   "metadata": {},
   "outputs": [
    {
     "name": "stdout",
     "output_type": "stream",
     "text": [
      "Election Results\n",
      "---------------------------\n",
      "Total Votes: 369711\n",
      "---------------------------\n",
      "                         Votes\n",
      "Candidate                     \n",
      "Charles Casper Stockham   23.0\n",
      "Diana DeGette             74.0\n",
      "Raymon Anthony Doane       3.0%\n",
      "---------------------------\n",
      "Winner:                 Votes\n",
      "Candidate            \n",
      "Diana DeGette  272892\n"
     ]
    }
   ],
   "source": [
    "#Export the results to a text file\n",
    "fileOutPath = 'electionresults_summary.txt'\n",
    "\n",
    "fileOut = open(fileOutPath,'x')\n",
    "\n",
    "print(\"Election Results\")   \n",
    "print(\"---------------------------\") \n",
    "print(f'Total Votes: {totalvotes}')\n",
    "print(\"---------------------------\") \n",
    "print(f'{results}')\n",
    "print(\"---------------------------\")\n",
    "print(f'Winner: {winner}')"
   ]
  },
  {
   "cell_type": "code",
   "execution_count": null,
   "id": "440caa2f",
   "metadata": {},
   "outputs": [],
   "source": []
  }
 ],
 "metadata": {
  "kernelspec": {
   "display_name": "Python 3",
   "language": "python",
   "name": "python3"
  },
  "language_info": {
   "codemirror_mode": {
    "name": "ipython",
    "version": 3
   },
   "file_extension": ".py",
   "mimetype": "text/x-python",
   "name": "python",
   "nbconvert_exporter": "python",
   "pygments_lexer": "ipython3",
   "version": "3.8.8"
  }
 },
 "nbformat": 4,
 "nbformat_minor": 5
}
