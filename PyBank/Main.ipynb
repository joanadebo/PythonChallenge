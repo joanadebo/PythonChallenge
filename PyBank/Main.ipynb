{
 "cells": [
  {
   "cell_type": "code",
   "execution_count": 6,
   "id": "69b756a7",
   "metadata": {},
   "outputs": [],
   "source": [
    "#import packages\n",
    "import pandas as pd\n",
    "import os\n",
    "\n",
    "#import csv file\n",
    "budgetdata = pd.read_csv(\"budget_data.csv\") \n"
   ]
  },
  {
   "cell_type": "code",
   "execution_count": 8,
   "id": "83acb11d",
   "metadata": {},
   "outputs": [],
   "source": [
    "#execute calculations\n",
    "\n",
    "#number months in csv\n",
    "number_months = len(budgetdata)\n",
    "\n",
    "#Net Total Profit/Losses\n",
    "total = budgetdata['Profit/Losses'].sum()\n",
    "\n",
    "#Changes in Profit/Losses over the entire period\n",
    "budgetdata['Lag Value'] = budgetdata['Profit/Losses'].shift(1)\n",
    "\n",
    "#Average changes in Profit/Losses\n",
    "budgetdata['Change'] =  budgetdata['Profit/Losses'] - budgetdata['Lag Value']\n",
    "budgetdata.sort_values(\"Change\", ascending = False)\n",
    "average_change = budgetdata['Change'].mean()\n",
    "\n",
    "#Greatest increase in profits (date and amount) over period\n",
    "max_change = budgetdata[budgetdata['Change'] == budgetdata['Change'].max()]\n",
    "\n",
    "\n",
    "#Greatest decrease in profits (date and amount) over period\n",
    "min_change = budgetdata[budgetdata['Change'] == budgetdata['Change'].min()]"
   ]
  },
  {
   "cell_type": "code",
   "execution_count": 13,
   "id": "6d295f2e",
   "metadata": {
    "scrolled": true
   },
   "outputs": [
    {
     "name": "stdout",
     "output_type": "stream",
     "text": [
      "Finanicial Analysis\n",
      "---------------------------\n",
      "Total Months: 86\n",
      "Total: $22564198\n",
      "Average Change: -8311.105882352942\n",
      "Greatest Increase in Profits: Aug-16 ($1862002.0)\n",
      "Greatest Decrease in Profits: Feb-14 ($-1825558.0)\n"
     ]
    }
   ],
   "source": [
    "#Financial Analysis\n",
    "#----------------------------\n",
    "#Total Months: 86\n",
    "#Total: $22564198\n",
    "#Average Change: $-8311.11\n",
    "#Greatest Increase in Profits: Aug-16 ($1862002)\n",
    "#Greatest Decrease in Profits: Feb-14 ($-1825558)\n",
    "\n",
    "fileOutPath = 'budgetdata_summary.txt'\n",
    "\n",
    "fileOut = open(fileOutPath,'x')\n",
    "\n",
    "print(\"Finanicial Analysis\")   \n",
    "print(\"---------------------------\") \n",
    "print(f'Total Months: {number_months}')\n",
    "print(f'Total: ${total}')\n",
    "print(f'Average Change: {average_change}')\n",
    "print(f'Greatest Increase in Profits: {max_change[\"Date\"].loc[max_change.index[0]]} (${max_change[\"Change\"].loc[max_change.index[0]]})')\n",
    "print(f'Greatest Decrease in Profits: {min_change[\"Date\"].loc[min_change.index[0]]} (${min_change[\"Change\"].loc[min_change.index[0]]})')"
   ]
  },
  {
   "cell_type": "code",
   "execution_count": null,
   "id": "4e7bb17a",
   "metadata": {
    "scrolled": true
   },
   "outputs": [],
   "source": []
  },
  {
   "cell_type": "code",
   "execution_count": null,
   "id": "7e748b2d",
   "metadata": {},
   "outputs": [],
   "source": []
  }
 ],
 "metadata": {
  "kernelspec": {
   "display_name": "Python 3",
   "language": "python",
   "name": "python3"
  },
  "language_info": {
   "codemirror_mode": {
    "name": "ipython",
    "version": 3
   },
   "file_extension": ".py",
   "mimetype": "text/x-python",
   "name": "python",
   "nbconvert_exporter": "python",
   "pygments_lexer": "ipython3",
   "version": "3.8.8"
  }
 },
 "nbformat": 4,
 "nbformat_minor": 5
}
